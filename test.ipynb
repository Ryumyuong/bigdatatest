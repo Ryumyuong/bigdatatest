{
 "cells": [
  {
   "cell_type": "code",
   "execution_count": 1,
   "metadata": {},
   "outputs": [
    {
     "name": "stdout",
     "output_type": "stream",
     "text": [
      "{1, 2, 3, 4, 5} <class 'set'>\n",
      "{1, 2, 3, 4, 5} <class 'numpy.ndarray'>\n"
     ]
    }
   ],
   "source": [
    "import numpy as np\n",
    "a={1,2,3,4,5}\n",
    "b= np.array(a)\n",
    "print(a, type(a))\n",
    "print(b, type(b))"
   ]
  },
  {
   "cell_type": "code",
   "execution_count": 4,
   "metadata": {},
   "outputs": [
    {
     "name": "stdout",
     "output_type": "stream",
     "text": [
      "[1 3 5 7 9] <class 'numpy.ndarray'> (5,)\n"
     ]
    }
   ],
   "source": [
    "b = np.arange(1,10,2)\n",
    "print(b, type(b), b.shape)"
   ]
  },
  {
   "cell_type": "code",
   "execution_count": 5,
   "metadata": {},
   "outputs": [
    {
     "name": "stdout",
     "output_type": "stream",
     "text": [
      "[{1, 2, 3} {4, 5, 6}] (2,)\n"
     ]
    }
   ],
   "source": [
    "a=[{1,2,3}, {4,5,6}]\n",
    "b=np.array(a)\n",
    "print(b, b.shape)"
   ]
  },
  {
   "cell_type": "code",
   "execution_count": 6,
   "metadata": {},
   "outputs": [
    {
     "name": "stdout",
     "output_type": "stream",
     "text": [
      "[[1 2 3]\n",
      " [4 5 6]]\n",
      "[[1 2]\n",
      " [3 4]\n",
      " [5 6]]\n"
     ]
    }
   ],
   "source": [
    "a=[1,2,3,4,5,6]\n",
    "b=np.array(a).reshape(2,3)\n",
    "c=np.array(a).reshape(3,2)\n",
    "print(b)\n",
    "print(c)"
   ]
  },
  {
   "cell_type": "code",
   "execution_count": 9,
   "metadata": {},
   "outputs": [
    {
     "name": "stdout",
     "output_type": "stream",
     "text": [
      "[1 2 3]\n",
      "5\n",
      "[2 5]\n"
     ]
    }
   ],
   "source": [
    "print(b[0])\n",
    "print(b[1][1])\n",
    "print(b[:,1])"
   ]
  },
  {
   "cell_type": "code",
   "execution_count": 16,
   "metadata": {},
   "outputs": [
    {
     "name": "stdout",
     "output_type": "stream",
     "text": [
      "[{1, 2, 3}, {4, 5, 6}]\n",
      "[[1 2 3]\n",
      " [4 5 6]]\n",
      "[[2 3 4]\n",
      " [5 6 7]]\n",
      "[{1, 2, 3}, {4, 5, 6}, {1, 2, 3}, {4, 5, 6}]\n",
      "[[ 2  4  6]\n",
      " [ 8 10 12]]\n"
     ]
    }
   ],
   "source": [
    "a=[{1,2,3}, {4,5,6}]\n",
    "print(a)\n",
    "print(b)\n",
    "# print(a+1)\n",
    "print(b+1)\n",
    "print(a*2)\n",
    "print(b*2)"
   ]
  },
  {
   "cell_type": "code",
   "execution_count": 20,
   "metadata": {},
   "outputs": [
    {
     "name": "stdout",
     "output_type": "stream",
     "text": [
      "[4 5 6 7]\n",
      "[0 1 2 3]\n",
      "[2 4 6 8]\n",
      "[0.5 1.  1.5 2. ]\n",
      "[0 1 1 2]\n",
      "[1 0 1 0]\n"
     ]
    }
   ],
   "source": [
    "aa = [1,2,3,4]\n",
    "bb=[7,8]\n",
    "arr1=np.array(aa)\n",
    "arr2=np.array(bb)\n",
    "# print(aa+bb)\n",
    "print(arr1+3)\n",
    "print(arr1-1)\n",
    "print(arr1*2)\n",
    "print(arr1/2)\n",
    "print(arr1//2)\n",
    "print(arr1%2)"
   ]
  },
  {
   "cell_type": "code",
   "execution_count": 22,
   "metadata": {},
   "outputs": [
    {
     "name": "stdout",
     "output_type": "stream",
     "text": [
      "[[1 1 1]\n",
      " [2 2 2]\n",
      " [3 3 3]]\n",
      "[1 2 3]\n",
      "[[2 3 4]\n",
      " [3 4 5]\n",
      " [4 5 6]]\n"
     ]
    }
   ],
   "source": [
    "a1=[(1,1,1),(2,2,2),(3,3,3)]\n",
    "a2=[1,2,3]\n",
    "b1=np.array(a1)\n",
    "b2=np.array(a2)\n",
    "print(b1)\n",
    "print(b2)\n",
    "print(b1+b2)"
   ]
  },
  {
   "cell_type": "code",
   "execution_count": 42,
   "metadata": {},
   "outputs": [
    {
     "name": "stdout",
     "output_type": "stream",
     "text": [
      "0.9969486348916096\n"
     ]
    }
   ],
   "source": [
    "# mean - 평균, sqrt - 루트(1/2승), log- log(e) = 1\n",
    "print(np.log(2.71))"
   ]
  },
  {
   "cell_type": "code",
   "execution_count": 44,
   "metadata": {},
   "outputs": [
    {
     "name": "stdout",
     "output_type": "stream",
     "text": [
      "[[5 3 4]\n",
      " [2 5 1]\n",
      " [7 6 9]]\n"
     ]
    }
   ],
   "source": [
    "a=[5,3,4,2,5,1,7,6,9]\n",
    "arr1=np.array(a).reshape(3,3)\n",
    "print(arr1)"
   ]
  },
  {
   "cell_type": "code",
   "execution_count": 47,
   "metadata": {},
   "outputs": [
    {
     "name": "stdout",
     "output_type": "stream",
     "text": [
      "[[3 4 5]\n",
      " [1 2 5]\n",
      " [6 7 9]]\n",
      "[[3 4 5]\n",
      " [1 2 5]\n",
      " [6 7 9]]\n",
      "[[2 3 1]\n",
      " [5 5 4]\n",
      " [7 6 9]]\n",
      "[[7 6 9]\n",
      " [5 5 4]\n",
      " [2 3 1]]\n"
     ]
    }
   ],
   "source": [
    "print(np.sort(arr1)) #default는 행기준 정렬\n",
    "print(np.sort(arr1, axis=1))\n",
    "print(np.sort(arr1, axis=0))\n",
    "print(np.sort(arr1, axis=0)[::-1,::]) # 열기준 역순정렬\n"
   ]
  },
  {
   "cell_type": "code",
   "execution_count": 51,
   "metadata": {},
   "outputs": [
    {
     "name": "stdout",
     "output_type": "stream",
     "text": [
      "[[5 3 4]\n",
      " [2 5 1]\n",
      " [7 6 9]]\n",
      "[[5 2 7]\n",
      " [3 5 6]\n",
      " [4 1 9]]\n",
      "[[False False False]\n",
      " [False False False]\n",
      " [ True  True  True]]\n",
      "False\n",
      "True\n"
     ]
    }
   ],
   "source": [
    "print(arr1)\n",
    "print(arr1.transpose()) #행과 열 변경\n",
    "print(arr1>5)\n",
    "print(np.all(arr1>3))\n",
    "print(np.any(arr1>3))"
   ]
  },
  {
   "cell_type": "code",
   "execution_count": 55,
   "metadata": {},
   "outputs": [
    {
     "name": "stdout",
     "output_type": "stream",
     "text": [
      "[0. 0. 0. 0. 0. 0. 0. 0. 0. 0.]\n",
      "[[0. 0. 0.]\n",
      " [0. 0. 0.]\n",
      " [0. 0. 0.]]\n",
      "[1. 1. 1. 1. 1. 1. 1. 1. 1. 1.]\n",
      "[[1. 1. 1.]\n",
      " [1. 1. 1.]\n",
      " [1. 1. 1.]]\n"
     ]
    }
   ],
   "source": [
    "# 0과 1로 행렬 생성\n",
    "a1=np.zeros(10)\n",
    "a2=np.zeros([3,3])\n",
    "print(a1)\n",
    "print(a2)\n",
    "a1=np.ones(10)\n",
    "a2=np.ones([3,3])\n",
    "print(a1)\n",
    "print(a2)"
   ]
  },
  {
   "cell_type": "code",
   "execution_count": 58,
   "metadata": {},
   "outputs": [
    {
     "name": "stdout",
     "output_type": "stream",
     "text": [
      "[[5 3 4]\n",
      " [2 5 1]\n",
      " [7 6 9]]\n",
      "[[1 1 1]\n",
      " [1 1 1]\n",
      " [1 1 1]]\n",
      "[[0 0 0]\n",
      " [0 0 0]\n",
      " [0 0 0]]\n"
     ]
    }
   ],
   "source": [
    "print(arr1)\n",
    "b1=np.ones_like(arr1)\n",
    "b2=np.zeros_like(arr1)\n",
    "print(b1)\n",
    "print(b2)"
   ]
  }
 ],
 "metadata": {
  "kernelspec": {
   "display_name": "base",
   "language": "python",
   "name": "python3"
  },
  "language_info": {
   "codemirror_mode": {
    "name": "ipython",
    "version": 3
   },
   "file_extension": ".py",
   "mimetype": "text/x-python",
   "name": "python",
   "nbconvert_exporter": "python",
   "pygments_lexer": "ipython3",
   "version": "3.10.9"
  },
  "orig_nbformat": 4
 },
 "nbformat": 4,
 "nbformat_minor": 2
}
